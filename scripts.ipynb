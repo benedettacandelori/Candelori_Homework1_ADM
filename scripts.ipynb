{
 "cells": [
  {
   "cell_type": "markdown",
   "id": "d684631f-c9fb-4511-a69b-35ffc37799f2",
   "metadata": {},
   "source": [
    "# Problem 1\n",
    "## Introduction\n",
    "\n",
    "#### Say \"Hello, World!\" With Python"
   ]
  },
  {
   "cell_type": "code",
   "execution_count": null,
   "id": "e3d587b3-72d0-4686-9586-5408f0e0ac80",
   "metadata": {},
   "outputs": [],
   "source": [
    "if __name__ == '__main__':\n",
    "    print(\"Hello, World!\")"
   ]
  },
  {
   "cell_type": "markdown",
   "id": "c1ea2983-65e8-4a94-b43b-e919e23a3290",
   "metadata": {},
   "source": [
    "#### Python If-Else"
   ]
  },
  {
   "cell_type": "code",
   "execution_count": null,
   "id": "9688af29-bbd8-4490-add8-2110471fb376",
   "metadata": {},
   "outputs": [],
   "source": [
    "import math\n",
    "import os\n",
    "import random\n",
    "import re\n",
    "import sys\n",
    "if __name__ == '__main__':\n",
    "    n = int(input().strip())\n",
    "\n",
    "if n >= 1 and n <= 100:\n",
    "    \n",
    "    if not n%2 == 0:\n",
    "        print('Weird')\n",
    "    else:\n",
    "        if n >= 2 and n <= 5:\n",
    "            print('Not Weird')\n",
    "        elif n >= 6 and n <= 20:\n",
    "            print('Weird')\n",
    "        else: \n",
    "            print('Not Weird')\n",
    "else: \n",
    "    print('n must be 100 or less')"
   ]
  },
  {
   "cell_type": "markdown",
   "id": "e90f4cde-75c3-4270-9028-efba71492813",
   "metadata": {},
   "source": [
    "#### Arithmetic Operators\n",
    "\n"
   ]
  },
  {
   "cell_type": "code",
   "execution_count": null,
   "id": "5024f6fe-9bb8-46a0-b5e7-5207ca39de7c",
   "metadata": {},
   "outputs": [],
   "source": [
    "if __name__ == '__main__':\n",
    "    a = int(input())\n",
    "    b = int(input())\n",
    "if a  >= 1 and a  <= 10**10 and b  >= 1 and b  <= 10**10 :\n",
    "    print(a+b)\n",
    "    print(a-b)\n",
    "    print(a*b)\n",
    "else: \n",
    "    print('Input is not valid')"
   ]
  },
  {
   "cell_type": "markdown",
   "id": "d85c8504-b148-480b-813c-244572098328",
   "metadata": {},
   "source": [
    "#### Python: Division"
   ]
  },
  {
   "cell_type": "code",
   "execution_count": null,
   "id": "db3e81e7-b911-46ce-9a86-5b48d2596a20",
   "metadata": {},
   "outputs": [],
   "source": [
    "from __future__ import division\n",
    "\n",
    "if __name__ == '__main__':\n",
    "    a = int(input())\n",
    "    b = int(input())\n",
    "print(a//b)\n",
    "print(a/b)"
   ]
  },
  {
   "cell_type": "markdown",
   "id": "33c48cc5-ac06-4bb8-b6e8-6010994782ae",
   "metadata": {},
   "source": [
    "#### Loops"
   ]
  },
  {
   "cell_type": "code",
   "execution_count": null,
   "id": "9633ec87-2b01-4335-9343-e14928cb0f2c",
   "metadata": {},
   "outputs": [],
   "source": [
    "if __name__ == '__main__':\n",
    "    n = int(input())\n",
    "if n >= 1 and n <= 20:\n",
    "    for i in range(0,n):\n",
    "        print(i**2)\n",
    "else:\n",
    "    print('Input is not valid')"
   ]
  },
  {
   "cell_type": "markdown",
   "id": "ef0e1772-b27a-43d5-8e63-c3c359c3a8b8",
   "metadata": {},
   "source": [
    "#### Write a function"
   ]
  },
  {
   "cell_type": "code",
   "execution_count": null,
   "id": "2365c298-ca73-4ff5-bb54-9ea32b760ea0",
   "metadata": {},
   "outputs": [],
   "source": [
    "def is_leap(year):\n",
    "    leap = False\n",
    "    if year >= 1900 and year <= 10**5:\n",
    "        if year%4 == 0:\n",
    "            leap = True\n",
    "            if year%100 == 0:\n",
    "                leap = False\n",
    "                if year%400 == 0:\n",
    "                    leap = True                \n",
    "    else: \n",
    "        print('The year is not valid')\n",
    "    return leap"
   ]
  },
  {
   "cell_type": "markdown",
   "id": "e22911fe-3be5-447b-9e3f-efd691a76767",
   "metadata": {},
   "source": [
    "#### Print Function"
   ]
  },
  {
   "cell_type": "code",
   "execution_count": null,
   "id": "fb67846e-de51-4f64-b3d1-295e93a7a932",
   "metadata": {},
   "outputs": [],
   "source": [
    "from __future__ import print_function\n",
    "\n",
    "if __name__ == '__main__':\n",
    "    n = int(input())\n",
    "\n",
    "if n >= 1 and n <= 150:\n",
    "    print(*(i for i in range(1, n+1)), sep='')\n",
    "else: \n",
    "    print('n is not valid')"
   ]
  },
  {
   "cell_type": "markdown",
   "id": "9992cacf-7233-4285-acee-3da9b1bf177e",
   "metadata": {},
   "source": [
    "## Data Types\n",
    "#### List Comprehensions"
   ]
  },
  {
   "cell_type": "code",
   "execution_count": null,
   "id": "3eba2454-0529-4343-81c1-7da0caa1bb80",
   "metadata": {},
   "outputs": [],
   "source": [
    "if __name__ == '__main__':\n",
    "    x = int(raw_input())\n",
    "    y = int(raw_input())\n",
    "    z = int(raw_input())\n",
    "    n = int(raw_input())\n",
    "    \n",
    "print ([[i,j,k] for i in range(0,x+1) for j in range(0,y+1) for k in range(0,z+1) if i + j + k != n ])"
   ]
  },
  {
   "cell_type": "markdown",
   "id": "3707b715-8c09-4223-8dec-55859160889f",
   "metadata": {},
   "source": [
    "#### Find the Runner-Up Score!"
   ]
  },
  {
   "cell_type": "code",
   "execution_count": null,
   "id": "439d2701-45e6-45e6-95a6-2984af872e05",
   "metadata": {},
   "outputs": [],
   "source": [
    "if __name__ == '__main__':\n",
    "    n = int(raw_input())\n",
    "    arr = map(int, raw_input().split())\n",
    "    \n",
    "\n",
    "for i in arr:\n",
    "    if i<-100 and i>100:\n",
    "        print('Input is not valid')\n",
    "if n<2 and n>10:\n",
    "    print('Input is not valid')\n",
    "else:\n",
    "    first = max(arr)\n",
    "    new_arr = []\n",
    "    for i in arr:\n",
    "        if i != first:\n",
    "            new_arr.append(i)\n",
    "    print(max(new_arr))"
   ]
  },
  {
   "cell_type": "markdown",
   "id": "c5acb0d7-1700-4839-94ea-5ecc12a4339c",
   "metadata": {},
   "source": [
    "#### Nested Lists"
   ]
  },
  {
   "cell_type": "code",
   "execution_count": null,
   "id": "6e74a0e4-a9f6-46a2-8462-62bdcede774b",
   "metadata": {},
   "outputs": [],
   "source": [
    "if __name__ == '__main__':\n",
    "    records=[]\n",
    "    for _ in range(int(raw_input())):\n",
    "        name = raw_input()\n",
    "        score = float(raw_input())\n",
    "        records.append([name,score])\n",
    "\n",
    "N = len(records)\n",
    "if N<2 and N>5:\n",
    "    print('The number of records is not valid')\n",
    "else:\n",
    "    records = sorted(records, key=lambda v: (v[1],v[0]))\n",
    "    l = min([row[1] for row in records])\n",
    "    found = False\n",
    "    i = 0\n",
    "    while found == False:\n",
    "        if records[i][1] == l:\n",
    "            i += 1\n",
    "        else: \n",
    "            l2= records[i][1]\n",
    "            found = True\n",
    "    for i in range(0,N):\n",
    "        if records[i][1] == l2:\n",
    "            print(records[i][0])"
   ]
  },
  {
   "cell_type": "markdown",
   "id": "67cffb08-ed38-495a-8cda-c4aef1cddb1d",
   "metadata": {},
   "source": [
    "#### Finding the percentage"
   ]
  },
  {
   "cell_type": "code",
   "execution_count": null,
   "id": "7479e686-5082-407f-b9f6-5f780f3eaa3f",
   "metadata": {},
   "outputs": [],
   "source": [
    "if __name__ == '__main__':\n",
    "    n = int(raw_input())\n",
    "    student_marks = {}\n",
    "    for _ in range(n):\n",
    "        line = raw_input().split()\n",
    "        name, scores = line[0], line[1:]\n",
    "        scores = map(float, scores)\n",
    "        student_marks[name] = scores\n",
    "    query_name = raw_input()\n",
    "\n",
    "\n",
    "valid = True\n",
    "if n < 2 and n > 10:\n",
    "    valid = False\n",
    "for s in list(student_marks):\n",
    "    for m in range(0,2):\n",
    "        if student_marks[s][m] < 0 and student_marks[s][m] > 100:\n",
    "            valid = False\n",
    "    if not len(student_marks[s])==3:\n",
    "        valid = False\n",
    " \n",
    "if valid:\n",
    "    for s in list(student_marks):\n",
    "        if s == query_name:\n",
    "            print('%.2f' % (sum(student_marks[s])/3))\n",
    "else: \n",
    "    print('Input is not valid')  "
   ]
  },
  {
   "cell_type": "markdown",
   "id": "97060f6b-5038-478d-a5d3-52cf0c2be682",
   "metadata": {},
   "source": [
    "#### Lists"
   ]
  },
  {
   "cell_type": "code",
   "execution_count": null,
   "id": "cbe0d706-ef3f-4705-9a1f-08e74e36a8d1",
   "metadata": {},
   "outputs": [],
   "source": [
    "if __name__ == '__main__':\n",
    "    N = int(raw_input())\n",
    "    l = []\n",
    "    for _ in range(N):\n",
    "        x = raw_input().split()\n",
    "        fun = x[0]\n",
    "        args = x[1:]\n",
    "        if fun !=\"print\":\n",
    "            fun += \"(\"+ \",\".join(args) +\")\"\n",
    "            eval(\"l.\"+fun)\n",
    "        else:\n",
    "            print(l)"
   ]
  },
  {
   "cell_type": "markdown",
   "id": "b724009d-b7b8-4c06-bd41-95904a7b7fff",
   "metadata": {},
   "source": [
    "#### Tuples"
   ]
  },
  {
   "cell_type": "code",
   "execution_count": null,
   "id": "f5856db5-1474-4a94-aabe-8f2330927bfb",
   "metadata": {},
   "outputs": [],
   "source": [
    "if __name__ == '__main__':\n",
    "    n = int(raw_input())\n",
    "    t = tuple(map(int, raw_input().split()))\n",
    "    print(hash(t))\n"
   ]
  },
  {
   "cell_type": "markdown",
   "id": "fce5ef18-e3a8-4bef-a106-8b1cfb62bf06",
   "metadata": {},
   "source": [
    "## Strings\n",
    "#### sWAP cASE"
   ]
  },
  {
   "cell_type": "code",
   "execution_count": null,
   "id": "ab54bb53-b321-4696-b963-bee401668e98",
   "metadata": {},
   "outputs": [],
   "source": [
    "def swap_case(s):\n",
    "    if len(s) <= 1000:\n",
    "        return s.swapcase()\n",
    "    else:\n",
    "        return 'String is too long'"
   ]
  },
  {
   "cell_type": "markdown",
   "id": "a57b2411-5d7c-48ca-bd1a-06f00ba3b89c",
   "metadata": {},
   "source": [
    "#### String Split and Join"
   ]
  },
  {
   "cell_type": "code",
   "execution_count": null,
   "id": "a2f11721-30b2-4633-8a01-36817036a121",
   "metadata": {},
   "outputs": [],
   "source": [
    "def split_and_join(line):\n",
    "    s = line.split(\" \")\n",
    "    s = \"-\".join(s)\n",
    "    return s"
   ]
  },
  {
   "cell_type": "markdown",
   "id": "3c7c2a90-97bd-4d8c-b5cd-fda53bddcb33",
   "metadata": {},
   "source": [
    "#### What's Your Name?"
   ]
  },
  {
   "cell_type": "code",
   "execution_count": null,
   "id": "79dea5f3-d648-4197-965a-12473b56d9bb",
   "metadata": {},
   "outputs": [],
   "source": [
    "def print_full_name(first, last):\n",
    "    if len(first) <= 10 and len(last) <= 10:\n",
    "        print 'Hello '+first+' '+last+'! You just delved into python.'\n",
    "    else:\n",
    "        print 'First and/or last name are too long'"
   ]
  },
  {
   "cell_type": "markdown",
   "id": "901a3547-cf78-4fda-9de5-d666b44e8485",
   "metadata": {},
   "source": [
    "#### Mutations"
   ]
  },
  {
   "cell_type": "code",
   "execution_count": null,
   "id": "dbfd667e-5a3a-4a11-b824-488a25caddad",
   "metadata": {},
   "outputs": [],
   "source": [
    "def mutate_string(string, position, character):\n",
    "    l = list(string)\n",
    "    l[position] = character\n",
    "    string = ''.join(l)\n",
    "    return string"
   ]
  },
  {
   "cell_type": "markdown",
   "id": "82f21347-5695-4d48-9877-0b9149ead19c",
   "metadata": {},
   "source": [
    "#### Find a string"
   ]
  },
  {
   "cell_type": "code",
   "execution_count": null,
   "id": "9b4c0050-64d9-487f-af9e-a35f0758de71",
   "metadata": {},
   "outputs": [],
   "source": [
    "def count_substring(string, sub_string):\n",
    "    if len(string) >= 1 and len(string) <= 200:\n",
    "        count = 0\n",
    "        for s in range(0,len(string)):\n",
    "            if string[s:].startswith(sub_string):\n",
    "                count+=1\n",
    "        return count\n",
    "    else:\n",
    "        return 'String is too long'"
   ]
  },
  {
   "cell_type": "markdown",
   "id": "77b2a00a-6e8e-44f6-87d7-c6be901fd2d6",
   "metadata": {},
   "source": [
    "#### String Validators"
   ]
  },
  {
   "cell_type": "code",
   "execution_count": null,
   "id": "fe71b03f-259e-441c-979a-e163dccc1214",
   "metadata": {},
   "outputs": [],
   "source": [
    "if __name__ == '__main__':\n",
    "    s = raw_input()\n",
    "    if len(s) < 1000:\n",
    "        print any(i.isalnum() for i in s)\n",
    "        print any(i.isalpha() for i in s)\n",
    "        print any(i.isdigit() for i in s)\n",
    "        print any(i.islower() for i in s)\n",
    "        print any(i.isupper() for i in s)\n",
    "    else: \n",
    "        print 'String is too long'"
   ]
  },
  {
   "cell_type": "markdown",
   "id": "92c7fdf7-5343-4b24-82ec-3a60144dfbfd",
   "metadata": {},
   "source": [
    "#### Text Alignment"
   ]
  },
  {
   "cell_type": "code",
   "execution_count": null,
   "id": "6f232f0a-9f41-40e2-b948-88f952e6c1d4",
   "metadata": {},
   "outputs": [],
   "source": [
    "thickness = int(input()) #This must be an odd number\n",
    "c = 'H'\n",
    "\n",
    "#Top Cone\n",
    "for i in range(thickness):\n",
    "    print((c*i).rjust(thickness-1)+c+(c*i).ljust(thickness-1))\n",
    "\n",
    "#Top Pillars\n",
    "for i in range(thickness+1):\n",
    "    print((c*thickness).center(thickness*2)+(c*thickness).center(thickness*6))\n",
    "\n",
    "#Middle Belt\n",
    "for i in range((thickness+1)//2):\n",
    "    print((c*thickness*5).center(thickness*6))    \n",
    "\n",
    "#Bottom Pillars\n",
    "for i in range(thickness+1):\n",
    "    print((c*thickness).center(thickness*2)+(c*thickness).center(thickness*6))    \n",
    "\n",
    "#Bottom Cone\n",
    "for i in range(thickness):\n",
    "    print(((c*(thickness-i-1)).rjust(thickness)+c+(c*(thickness-i-1)).ljust(thickness)).rjust(thickness*6))"
   ]
  },
  {
   "cell_type": "markdown",
   "id": "8201c14d-4535-426d-a6f2-600ae3a83798",
   "metadata": {},
   "source": [
    "#### Text Wrap"
   ]
  },
  {
   "cell_type": "code",
   "execution_count": null,
   "id": "c62d527c-55ad-422c-a484-18c2b58794a4",
   "metadata": {},
   "outputs": [],
   "source": [
    "def wrap(string, max_width):\n",
    "    if len(string) < 1000 and max_width < len(string):\n",
    "        w = textwrap.wrap(string,max_width)\n",
    "        return \"\\n\".join([s for s in w])\n",
    "    else: \n",
    "        print 'Input is not valid'"
   ]
  },
  {
   "cell_type": "markdown",
   "id": "caf7b13e-6edd-4c8f-b963-3cffc8c276d4",
   "metadata": {},
   "source": [
    "#### Designer Door Mat"
   ]
  },
  {
   "cell_type": "code",
   "execution_count": null,
   "id": "e767c7e8-5303-4c20-9d25-80eed815f977",
   "metadata": {},
   "outputs": [],
   "source": [
    "N, M = map(int,raw_input().split())\n",
    "if N>=5 and N<=101 and M>=15 and M<=303 and M == 3*N:\n",
    "    for i in range(1,N-1,2):\n",
    "        print (i*'.|.').center(M, '-') \n",
    "    print 'WELCOME'.center(M,'-')\n",
    "    for i in range(N-2,0,-2):\n",
    "        print (i*'.|.').center(M, '-')"
   ]
  },
  {
   "cell_type": "markdown",
   "id": "11688705-a7eb-4770-9f77-5e70938d2873",
   "metadata": {},
   "source": [
    "#### String Formatting"
   ]
  },
  {
   "cell_type": "code",
   "execution_count": null,
   "id": "2d85290e-7103-4231-9eaf-bc056b43ab9d",
   "metadata": {},
   "outputs": [],
   "source": [
    "def print_formatted(number):\n",
    "    if number >= 1 and number <= 99:\n",
    "        w=len(bin(number)[2:])\n",
    "        for i in range(1,number+1):\n",
    "            print (str(i).rjust(w,' '),str(oct(i)[2:]).rjust(w,' '),str(hex(i)[2:].upper()).rjust(w,' '),str(bin(i)[2:]).rjust(w,' '),sep=' ')"
   ]
  },
  {
   "cell_type": "markdown",
   "id": "da152c06-0507-4b0e-af7e-9ea26f9d0d64",
   "metadata": {},
   "source": [
    "#### Alphabet Rangoli"
   ]
  },
  {
   "cell_type": "code",
   "execution_count": null,
   "id": "b3d230b6-dad5-457e-98fa-3802c37ef93e",
   "metadata": {},
   "outputs": [],
   "source": [
    "import string\n",
    "def print_rangoli(size):\n",
    "    alpha = list(string.ascii_lowercase)\n",
    "    for i in range(size-1, -size, -1):\n",
    "        x = abs(i)\n",
    "        line = alpha[size-1:x:-1]+alpha[x:size]\n",
    "        print (\"--\"*x+ '-'.join(line)+\"--\"*x)"
   ]
  },
  {
   "cell_type": "markdown",
   "id": "2bd756c6-39d4-4ccd-9259-10dddb3e6a35",
   "metadata": {},
   "source": [
    "#### Capitalize!"
   ]
  },
  {
   "cell_type": "code",
   "execution_count": null,
   "id": "3b1181e8-23c4-4a88-882f-8a1ecb527a02",
   "metadata": {},
   "outputs": [],
   "source": [
    "import string\n",
    "# Complete the solve function below.\n",
    "def solve(s):\n",
    "    if len(s)<1000:\n",
    "        return string.capwords(s, sep = ' ')"
   ]
  },
  {
   "cell_type": "markdown",
   "id": "ce2a8ef9-7a5d-4e3a-9eb0-2832f2d8d269",
   "metadata": {},
   "source": [
    "#### The Minion Game"
   ]
  },
  {
   "cell_type": "code",
   "execution_count": null,
   "id": "047e3845-3aa0-422a-94d2-91bf0137a188",
   "metadata": {},
   "outputs": [],
   "source": [
    "def minion_game(string):\n",
    "    if len(string)<=10**6:\n",
    "        v = 'AEIOU'\n",
    "        k = 0\n",
    "        s = 0\n",
    "        for i in range(0,len(string)):\n",
    "            if string[i] in v:\n",
    "                k += len(string)-i\n",
    "            else:\n",
    "                s +=len(string)-i\n",
    "        if k < s:\n",
    "            print('Stuart',s)\n",
    "        elif k > s:\n",
    "            print('Kevin',k)\n",
    "        else:\n",
    "            print('Draw')"
   ]
  },
  {
   "cell_type": "markdown",
   "id": "ae40cff2-ce96-4de6-bafe-33dfab8885c5",
   "metadata": {},
   "source": [
    "#### Merge the Tools!"
   ]
  },
  {
   "cell_type": "code",
   "execution_count": null,
   "id": "8a758761-9b74-439f-afd1-f1e8bcfa62c6",
   "metadata": {},
   "outputs": [],
   "source": [
    "import textwrap as w\n",
    "\n",
    "def merge_the_tools(string, k):\n",
    "    n = len(string)\n",
    "    if n<=10**4 and k<=n and n%k == 0:\n",
    "        for i in range(0, n, k):\n",
    "            u = ''\n",
    "            for t in string[i : i+k]:\n",
    "                if (t not in u):\n",
    "                    u+=t\n",
    "            print(u)"
   ]
  },
  {
   "cell_type": "markdown",
   "id": "19e65adc-f663-4bd1-9044-47dbb7ac8c67",
   "metadata": {},
   "source": [
    "## Sets\n",
    "#### Introduction to Sets"
   ]
  },
  {
   "cell_type": "code",
   "execution_count": null,
   "id": "378ebdd4-703e-4f84-8e34-1c9365ce541d",
   "metadata": {},
   "outputs": [],
   "source": [
    "def average(array):\n",
    "    x = set(array)\n",
    "    average = sum(x)/len(x)\n",
    "    return round(average,3)"
   ]
  },
  {
   "cell_type": "markdown",
   "id": "2e1354b0-bac3-4f15-b3d6-8893d02fa3d8",
   "metadata": {},
   "source": [
    "#### No Idea!"
   ]
  },
  {
   "cell_type": "code",
   "execution_count": null,
   "id": "9952dc98-cb1b-4e14-b984-6bfceabd2b79",
   "metadata": {},
   "outputs": [],
   "source": [
    "n,m = input().split()\n",
    "arr = list(input().split())\n",
    "A = set(input().split())\n",
    "B = set(input().split())\n",
    "h = 0 \n",
    "for i in arr:\n",
    "    if i in A:\n",
    "        h += 1\n",
    "    elif i in B:\n",
    "        h -= 1\n",
    "print(h)"
   ]
  },
  {
   "cell_type": "markdown",
   "id": "f2fe9c51-63ca-4669-a496-f1dcd7a926d8",
   "metadata": {},
   "source": [
    "#### Symmetric Difference"
   ]
  },
  {
   "cell_type": "code",
   "execution_count": null,
   "id": "e819807d-ffa2-43a0-a313-0e54010a5af7",
   "metadata": {},
   "outputs": [],
   "source": [
    "M = int(raw_input())\n",
    "A = set(map(int, raw_input().split()))\n",
    "N = int(raw_input())\n",
    "B = set(map(int, raw_input().split()))\n",
    "\n",
    "symDif = sorted((A.difference(B)).union(B.difference(A)))\n",
    "\n",
    "print \"\\n\".join([str(n) for n in symDif])"
   ]
  },
  {
   "cell_type": "markdown",
   "id": "bfb2499d-5176-4224-a781-86dc756434f8",
   "metadata": {},
   "source": [
    "#### Set .add()"
   ]
  },
  {
   "cell_type": "code",
   "execution_count": null,
   "id": "c5266b84-58d1-408b-8331-88a5a535bbdb",
   "metadata": {},
   "outputs": [],
   "source": [
    "n = int(raw_input())\n",
    "if n<1000:\n",
    "    country = set()\n",
    "    for i in range(n):\n",
    "        country.add(raw_input())\n",
    "    print(len(country))"
   ]
  },
  {
   "cell_type": "markdown",
   "id": "8a95db4b-a140-4c57-8396-7e865210eee5",
   "metadata": {},
   "source": [
    "#### Set .discard(), .remove() & .pop()"
   ]
  },
  {
   "cell_type": "code",
   "execution_count": null,
   "id": "54930a9f-bbc2-40f4-a3f4-f0082579152d",
   "metadata": {},
   "outputs": [],
   "source": [
    "n= int(input())\n",
    "s = set(map(int,input().split()))\n",
    "N = int(input())\n",
    "\n",
    "\n",
    "if n < 20 and N < 20:\n",
    "    for i in range(N):\n",
    "        cmd = input().split()\n",
    "        if cmd[0]==\"remove\":\n",
    "            s.remove(int(cmd[1]))\n",
    "        elif cmd[0]==\"discard\":\n",
    "            s.discard(int(cmd[1]))\n",
    "        else:\n",
    "            s.pop()\n",
    "    print(sum(list(s)))"
   ]
  },
  {
   "cell_type": "markdown",
   "id": "831c500c-9034-436f-bc2a-d67756549449",
   "metadata": {},
   "source": [
    "#### Set .union() Operation"
   ]
  },
  {
   "cell_type": "code",
   "execution_count": null,
   "id": "c032892c-6c22-4ddb-8a6d-ed1ce42e4394",
   "metadata": {},
   "outputs": [],
   "source": [
    "n = int(input())\n",
    "english = set(input().split())\n",
    "b = int(input())\n",
    "french = set(input().split())\n",
    "\n",
    "print(len(english.union(french)))"
   ]
  },
  {
   "cell_type": "markdown",
   "id": "f58563e6-fa0d-4a8e-b327-7e0dbfcef306",
   "metadata": {},
   "source": [
    "#### Set .intersection() Operation"
   ]
  },
  {
   "cell_type": "code",
   "execution_count": null,
   "id": "ab97e022-ab20-4942-b672-1067a70de658",
   "metadata": {},
   "outputs": [],
   "source": [
    "n = int(input())\n",
    "english = set(input().split())\n",
    "b = int(input())\n",
    "french = set(input().split())\n",
    "\n",
    "print(len(english.intersection(french)))"
   ]
  },
  {
   "cell_type": "markdown",
   "id": "16c94b0b-efc4-409e-b76b-5707a2aab055",
   "metadata": {},
   "source": [
    "#### Set .difference() Operation"
   ]
  },
  {
   "cell_type": "code",
   "execution_count": null,
   "id": "395ed018-baa7-45e4-b501-837a95aa4648",
   "metadata": {},
   "outputs": [],
   "source": [
    "n = int(input())\n",
    "english = set(input().split())\n",
    "b = int(input())\n",
    "french = set(input().split())\n",
    "\n",
    "print(len(english.difference(french)))"
   ]
  },
  {
   "cell_type": "markdown",
   "id": "c9e8ed35-0550-47e4-b8d1-1a8eb604edfb",
   "metadata": {},
   "source": [
    "#### Set .symmetric_difference() Operation"
   ]
  },
  {
   "cell_type": "code",
   "execution_count": null,
   "id": "90c5f94e-4f7a-4eac-ba70-64c0803a98b1",
   "metadata": {},
   "outputs": [],
   "source": [
    "n = int(input())\n",
    "english = set(input().split())\n",
    "b = int(input())\n",
    "french = set(input().split())\n",
    "\n",
    "print(len((english.difference(french)).union(french.difference(english))))"
   ]
  },
  {
   "cell_type": "markdown",
   "id": "cd79d899-8871-41af-8bbe-f6ecc665727c",
   "metadata": {},
   "source": [
    "#### Set Mutations"
   ]
  },
  {
   "cell_type": "code",
   "execution_count": null,
   "id": "ffbf9e1c-1922-4924-9168-cf35d2526c96",
   "metadata": {},
   "outputs": [],
   "source": [
    "a = int(input())\n",
    "A = set(input().split())\n",
    "N = int(input())\n",
    "\n",
    "for _ in range(N):\n",
    "    command, *args = input().split()\n",
    "    getattr(A, command)(set(input().split())) \n",
    "print(sum(map(int, A)))"
   ]
  },
  {
   "cell_type": "markdown",
   "id": "7eea8bcb-023c-4add-a8e8-74e6f1ed452e",
   "metadata": {},
   "source": [
    "#### The Captain's Room"
   ]
  },
  {
   "cell_type": "code",
   "execution_count": null,
   "id": "e7e88518-6270-4e44-8c61-1691c892d45d",
   "metadata": {},
   "outputs": [],
   "source": [
    "K = int(input())\n",
    "rooms = list(input().split())\n",
    "\n",
    "counts = {} \n",
    "for x in rooms:\n",
    "  counts[x] = counts.get(x,0) + 1\n",
    "for key in counts:\n",
    "  if counts[key] != K: \n",
    "    print(key)"
   ]
  },
  {
   "cell_type": "markdown",
   "id": "0c81a636-a2a9-4d7d-bcfd-6b4e28fe5281",
   "metadata": {},
   "source": [
    "#### Check Subset"
   ]
  },
  {
   "cell_type": "code",
   "execution_count": null,
   "id": "0ca44a4b-fb02-4a5d-b5a3-87e690579954",
   "metadata": {},
   "outputs": [],
   "source": [
    "T = int(input())\n",
    "for t in range(T):  \n",
    "    a = int(input())\n",
    "    A = set(input().split())\n",
    "    b = int(input())\n",
    "    B = set(input().split())\n",
    "    print(A.issubset(B))"
   ]
  },
  {
   "cell_type": "markdown",
   "id": "3c0d6e91-a5d0-4509-8b38-23afa184d732",
   "metadata": {},
   "source": [
    "#### Check Strict Superset"
   ]
  },
  {
   "cell_type": "code",
   "execution_count": null,
   "id": "ac99a6fd-585d-4f38-8c24-6c52f8d95ff7",
   "metadata": {},
   "outputs": [],
   "source": [
    "A = set(input().split())\n",
    "n = int(input())\n",
    "count = 0\n",
    "for i in range (n):\n",
    "    b = set(input().split())\n",
    "    if A.issuperset(b):\n",
    "       count += 1\n",
    "print(count == n)"
   ]
  },
  {
   "cell_type": "markdown",
   "id": "ab1dd488-11b9-4313-a984-81b24da6563b",
   "metadata": {},
   "source": [
    "## Collections\n",
    "#### collections.Counter()"
   ]
  },
  {
   "cell_type": "code",
   "execution_count": null,
   "id": "9cd089b5-b9a6-4750-8020-6f1289c7fb10",
   "metadata": {},
   "outputs": [],
   "source": [
    "from collections import Counter\n",
    "x = int(input())\n",
    "shoes = Counter(map(int, input().split()))\n",
    "n = int(input())\n",
    "money = 0 \n",
    "\n",
    "for i in range(n):\n",
    "   size, price = map(int, input().split())\n",
    "   if shoes[size]:\n",
    "    money += price\n",
    "    shoes[size] -= 1\n",
    "\n",
    "print(money)"
   ]
  },
  {
   "cell_type": "markdown",
   "id": "3e3f78c4-158e-43f8-ac16-778de73f3ca0",
   "metadata": {},
   "source": [
    "#### DefaultDict Tutorial"
   ]
  },
  {
   "cell_type": "code",
   "execution_count": null,
   "id": "4ba677bd-d764-4f8e-bb6c-c23b56529a15",
   "metadata": {},
   "outputs": [],
   "source": [
    "from collections import defaultdict\n",
    "A = defaultdict(list)\n",
    "l=[]\n",
    "n, m = map(int,input().split())\n",
    "for i in range(1, n+1):\n",
    "    A[input()].append(str(i))\n",
    "for i in range(m):\n",
    "    b = input()\n",
    "    if b in A: \n",
    "        print(' '.join(A[b]))\n",
    "    else: \n",
    "        print(-1)"
   ]
  },
  {
   "cell_type": "markdown",
   "id": "c8f5104b-c5e7-4f5f-8095-96080c3b5dd9",
   "metadata": {},
   "source": [
    "#### Collections.namedtuple()"
   ]
  },
  {
   "cell_type": "code",
   "execution_count": null,
   "id": "fc67a6fd-8ec0-4ae6-8682-010d8cbea129",
   "metadata": {},
   "outputs": [],
   "source": [
    "from collections import namedtuple\n",
    "N = int(input())\n",
    "cols = input().split()\n",
    "student = namedtuple('Student',cols)\n",
    "students = []\n",
    "marks = 0\n",
    "for i in range(N):\n",
    "    students.append(student(*input().split()))\n",
    "print(sum(list(map(lambda x: float(x.MARKS),students)))/N)"
   ]
  },
  {
   "cell_type": "markdown",
   "id": "af6fd90f-3607-426c-af12-c2069f590ed4",
   "metadata": {},
   "source": [
    "#### Collections.OrderedDict()"
   ]
  },
  {
   "cell_type": "code",
   "execution_count": null,
   "id": "74dc14ca-4dff-4c34-bdc7-b74905aeb46c",
   "metadata": {},
   "outputs": [],
   "source": [
    "from collections import OrderedDict\n",
    "N = int(input())\n",
    "d = OrderedDict()\n",
    "for i in range(N):\n",
    "    item_name,null,quantity = input().rpartition(' ')\n",
    "    d[item_name] = d.get(item_name,0)+int(quantity)\n",
    "for i, q in d.items():\n",
    "    print(i,q)"
   ]
  },
  {
   "cell_type": "markdown",
   "id": "c2c0eacf-0dbc-455c-bc59-6ce60fb83a31",
   "metadata": {},
   "source": [
    "#### Word Order\n",
    "\n"
   ]
  },
  {
   "cell_type": "code",
   "execution_count": null,
   "id": "c5ac0d58-0e00-4e67-b201-b99c6da24e51",
   "metadata": {},
   "outputs": [],
   "source": [
    "from collections import OrderedDict\n",
    "\n",
    "n = int(input())\n",
    "dic = OrderedDict()\n",
    "for i in range(n):\n",
    "    word = input()\n",
    "    if word in dic:\n",
    "        dic[word] +=1\n",
    "    else:\n",
    "        dic[word] = 1\n",
    "print(len(dic));\n",
    "for k,v in dic.items():\n",
    "    print(v,end = \" \")"
   ]
  },
  {
   "cell_type": "markdown",
   "id": "9c66db0c-2527-4e1d-a8b2-69ea2ee407ab",
   "metadata": {},
   "source": [
    "#### Collections.deque()\n",
    "\n"
   ]
  },
  {
   "cell_type": "code",
   "execution_count": null,
   "id": "2b02e015-2558-465d-b5eb-dea693c785c8",
   "metadata": {},
   "outputs": [],
   "source": [
    "from collections import deque\n",
    "n = int(input())\n",
    "d = deque()\n",
    "for _ in range(n):\n",
    "    cmd = input().split()\n",
    "    if cmd[0] == 'append':\n",
    "        d.append(cmd[1])\n",
    "    elif cmd[0] == 'appendleft':\n",
    "        d.appendleft(cmd[1])\n",
    "    elif cmd[0] == 'pop':\n",
    "        d.pop()\n",
    "    elif cmd[0] == 'popleft':\n",
    "        d.popleft()\n",
    "print(' '.join(d))"
   ]
  },
  {
   "cell_type": "markdown",
   "id": "988fa730-0229-4303-917a-2548e5fd4f41",
   "metadata": {},
   "source": [
    "#### Company Logo"
   ]
  },
  {
   "cell_type": "code",
   "execution_count": null,
   "id": "cf172f20-25d7-42bf-bd8b-cc3f5f927cbf",
   "metadata": {},
   "outputs": [],
   "source": [
    "import math\n",
    "import os\n",
    "import random\n",
    "import re\n",
    "import sys\n",
    "from collections import Counter\n",
    "\n",
    "\n",
    "if __name__ == '__main__':\n",
    "    s = input()\n",
    "    counter = Counter(s).most_common()\n",
    "    counter = sorted(counter, key=lambda x: (x[1] * -1, x[0]))\n",
    "    for i in range(0,3):\n",
    "        print(counter[i][0],counter[i][1])"
   ]
  },
  {
   "cell_type": "markdown",
   "id": "36c689a0-7c1e-4af9-b3a3-fa550eba6304",
   "metadata": {},
   "source": [
    "#### Piling Up!"
   ]
  },
  {
   "cell_type": "code",
   "execution_count": null,
   "id": "90944ebf-7f1f-4791-8050-14981b682e99",
   "metadata": {},
   "outputs": [],
   "source": [
    "from collections import deque\n",
    "\n",
    "for _ in range(int(input())):  \n",
    "    _=input()\n",
    "    queue = deque(map(int, input().split()))\n",
    "    for cube in reversed(sorted(queue)):\n",
    "        if queue[-1] == cube: \n",
    "            queue.pop()\n",
    "        elif queue[0] == cube: \n",
    "            queue.popleft()\n",
    "        else:\n",
    "            print('No')\n",
    "            break\n",
    "    else: print('Yes')"
   ]
  },
  {
   "cell_type": "markdown",
   "id": "abd79cc9-d0dc-4993-927e-a535c618297e",
   "metadata": {},
   "source": [
    "## Date and Time\n",
    "#### Calendar Module"
   ]
  },
  {
   "cell_type": "code",
   "execution_count": null,
   "id": "5a7c2903-24f2-4741-a2f5-cab086425e2a",
   "metadata": {},
   "outputs": [],
   "source": [
    "import calendar \n",
    "\n",
    "d,m,y = map(int,input().split())\n",
    "print((calendar.day_name[calendar.weekday(y,d,m)]).upper())"
   ]
  },
  {
   "cell_type": "markdown",
   "id": "e16bac34-35c0-459b-8d5d-565749503b09",
   "metadata": {},
   "source": [
    "#### Time Delta"
   ]
  },
  {
   "cell_type": "code",
   "execution_count": null,
   "id": "e0dbf90d-bd49-4aff-9641-e8ee26e4b3bf",
   "metadata": {},
   "outputs": [],
   "source": [
    "import math\n",
    "import os\n",
    "import random\n",
    "import re\n",
    "import sys\n",
    "from datetime import datetime\n",
    "\n",
    "\n",
    "# Complete the time_delta function below.\n",
    "def time_delta(t1, t2):\n",
    "    t1 = datetime.strptime(t1, '%a %d %b %Y %H:%M:%S %z')\n",
    "    t2 = datetime.strptime(t2, '%a %d %b %Y %H:%M:%S %z')\n",
    "    return str(int(abs((t1-t2).total_seconds())))\n",
    "if __name__ == '__main__':\n",
    "    fptr = open(os.environ['OUTPUT_PATH'], 'w')\n",
    "    t = int(input())\n",
    "    for t_itr in range(t):\n",
    "        t1 = input()\n",
    "        t2 = input()\n",
    "        delta = time_delta(t1, t2)\n",
    "        fptr.write(delta + '\\n')\n",
    "    fptr.close()"
   ]
  },
  {
   "cell_type": "markdown",
   "id": "f0ede681-2436-49a9-a5ce-7e82876835fe",
   "metadata": {},
   "source": [
    "## Exceptions\n",
    "#### Exceptions"
   ]
  },
  {
   "cell_type": "code",
   "execution_count": null,
   "id": "10bd19c4-355f-443b-a6f0-598f8419180b",
   "metadata": {},
   "outputs": [],
   "source": [
    "T = int(input())\n",
    "\n",
    "for i in range(T):\n",
    "    try:\n",
    "        a,b=map(int,input().split())\n",
    "        print(a//b)\n",
    "    except Exception as e:\n",
    "        print(\"Error Code:\",e)"
   ]
  },
  {
   "cell_type": "markdown",
   "id": "7cffc954-a4c8-49f4-afa0-5d2bc3676338",
   "metadata": {},
   "source": [
    "## Built-ins!\n",
    "#### Zipped!"
   ]
  },
  {
   "cell_type": "code",
   "execution_count": null,
   "id": "39286713-78cc-4a31-9d02-78b12e48059b",
   "metadata": {},
   "outputs": [],
   "source": [
    "n,x = map(int,input().split())\n",
    "subject = []\n",
    "for i in range(x):\n",
    "    subject.append(map(float,input().split()))\n",
    "for i in zip(*subject):\n",
    "    print(sum(i)/len(i))"
   ]
  },
  {
   "cell_type": "markdown",
   "id": "f2d7748a-798d-4ad4-905b-f7f86d599a7a",
   "metadata": {},
   "source": [
    "#### Athlete Sort"
   ]
  },
  {
   "cell_type": "code",
   "execution_count": null,
   "id": "ff5040d7-558c-4056-babf-e6fb3cc54088",
   "metadata": {},
   "outputs": [],
   "source": [
    "import math\n",
    "import os\n",
    "import random\n",
    "import re\n",
    "import sys\n",
    "\n",
    "if __name__ == '__main__':\n",
    "    nm = input().split()\n",
    "    n = int(nm[0])\n",
    "    m = int(nm[1])\n",
    "    arr = []\n",
    "    for _ in range(n):\n",
    "        arr.append(list(map(int, input().rstrip().split())))\n",
    "    k = int(input())\n",
    "    arr = sorted(arr, key = lambda x: x[k])\n",
    "    for i in range(n):\n",
    "        print(*arr[i], sep=\" \")"
   ]
  },
  {
   "cell_type": "markdown",
   "id": "b0c83d7e-5658-4ff6-b895-4375bfb53ecf",
   "metadata": {},
   "source": [
    "#### ginortS"
   ]
  },
  {
   "cell_type": "code",
   "execution_count": null,
   "id": "1a8f5862-9359-4f71-8071-b533cbe4c9f2",
   "metadata": {},
   "outputs": [],
   "source": [
    "s  = input()\n",
    "print(*sorted(s, key=lambda c: (c.isdigit() - c.islower(), c in '02468', c)), sep='')"
   ]
  },
  {
   "cell_type": "markdown",
   "id": "b560307f-3699-4aa3-90f7-04da7f102fe4",
   "metadata": {},
   "source": [
    "##  Python Functionals\n",
    "#### Map and Lambda Function"
   ]
  },
  {
   "cell_type": "code",
   "execution_count": null,
   "id": "5a96c32d-c689-4bc4-8762-2017818c09bd",
   "metadata": {},
   "outputs": [],
   "source": [
    "cube = lambda x: x**3\n",
    "\n",
    "def fibonacci(n):\n",
    "    f = [0,1]\n",
    "    if n>= 2:\n",
    "        for i in range(2,n):\n",
    "            f.append(f[i-1]+f[i-2])\n",
    "        return f\n",
    "    elif n == 1: \n",
    "        return [0]\n",
    "    else:\n",
    "        return []"
   ]
  },
  {
   "cell_type": "markdown",
   "id": "ef7d5563-6d16-4713-a9ea-323a125880bc",
   "metadata": {},
   "source": [
    "## Regex and Parsing challenges\n",
    "#### Detect Floating Point Number"
   ]
  },
  {
   "cell_type": "code",
   "execution_count": null,
   "id": "c5f7f4f2-2136-4936-a7fd-40612f8fdc0a",
   "metadata": {},
   "outputs": [],
   "source": [
    "import re\n",
    "n = int(input())\n",
    "for i in range(n):\n",
    "    x = input()\n",
    "    floating = bool(re.match(r'^[-+]?[0-9]*\\.[0-9]+$', x))\n",
    "    print(floating)"
   ]
  },
  {
   "cell_type": "markdown",
   "id": "380df49b-693d-4cdf-8830-0987971c997b",
   "metadata": {},
   "source": [
    "#### Re.split()"
   ]
  },
  {
   "cell_type": "code",
   "execution_count": 1,
   "id": "ff51ac8c-4405-4e8f-badf-7b7c34640e1a",
   "metadata": {},
   "outputs": [],
   "source": [
    "regex_pattern = r\"\\D+\""
   ]
  },
  {
   "cell_type": "markdown",
   "id": "b65f3d63-e88e-454a-ae05-2129b3b122cc",
   "metadata": {},
   "source": [
    "#### Group(), Groups() & Groupdict()"
   ]
  },
  {
   "cell_type": "code",
   "execution_count": null,
   "id": "2664495b-950f-48a4-aba9-0fae457b8692",
   "metadata": {},
   "outputs": [],
   "source": [
    "import re\n",
    "s = input() \n",
    "m = re.search(r'([a-zA-Z0-9])\\1+', s)\n",
    "if m:\n",
    "    print(m.group(1))\n",
    "else:\n",
    "    print(-1)"
   ]
  },
  {
   "cell_type": "markdown",
   "id": "7c013edf-500c-40f3-822b-43915d7a5824",
   "metadata": {},
   "source": [
    "#### Re.findall() & Re.finditer()\n",
    "\n"
   ]
  },
  {
   "cell_type": "code",
   "execution_count": null,
   "id": "b83a81a3-d549-45b9-b9b4-949213058154",
   "metadata": {},
   "outputs": [],
   "source": [
    "s = input()\n",
    "\n",
    "import re\n",
    "m = re.findall(r'[^aiueo]([aiueoAIUEO]{2,})(?=[^aiueo])', s)\n",
    "if m:\n",
    "    for i in m:\n",
    "        print(i)\n",
    "else:\n",
    "    print(-1)"
   ]
  },
  {
   "cell_type": "markdown",
   "id": "93fa050d-eb43-4395-ae4b-062816641e42",
   "metadata": {},
   "source": [
    "#### Re.start() & Re.end()\n",
    "\n"
   ]
  },
  {
   "cell_type": "code",
   "execution_count": null,
   "id": "0f358c7d-cfc4-4231-8e11-9b1a0a52a9e1",
   "metadata": {},
   "outputs": [],
   "source": [
    "import re\n",
    "\n",
    "S =  input()\n",
    "k = input()\n",
    "m = re.finditer(r'(?=(' + k + '))', S)\n",
    "\n",
    "found = False\n",
    "for i in m:\n",
    "    found = True\n",
    "    print((i.start(1), i.end(1) - 1))\n",
    "\n",
    "if found == False:\n",
    "    print((-1, -1))"
   ]
  },
  {
   "cell_type": "markdown",
   "id": "46529d9a-b6eb-4cdc-92a2-bbee1ae8d54a",
   "metadata": {},
   "source": [
    "#### Regex Substitution"
   ]
  },
  {
   "cell_type": "code",
   "execution_count": null,
   "id": "b36c3b74-c98a-4a98-ae8f-c3ae892af0e9",
   "metadata": {},
   "outputs": [],
   "source": [
    "import re\n",
    "\n",
    "def substitution(match):\n",
    "    if match.group(0) == '&&':\n",
    "        return('and') \n",
    "    else:\n",
    "        return('or')\n",
    "n = int(input())\n",
    "for _ in range(n):\n",
    "    s = input()\n",
    "    print(re.sub(r'(?<= )(&&|\\|\\|)(?= )',substitution, s))"
   ]
  },
  {
   "cell_type": "markdown",
   "id": "97a857b4-9506-4b95-b55b-3d4f1db3bd6f",
   "metadata": {},
   "source": [
    "#### Validating Roman Numerals"
   ]
  },
  {
   "cell_type": "code",
   "execution_count": null,
   "id": "a44c80c1-bcd1-45c9-aadb-5ed54e15b28d",
   "metadata": {},
   "outputs": [],
   "source": [
    "regex_pattern = r'^M{0,3}(C[MD]|D?C{0,3})(X[CL]|L?X{0,3})(I[VX]|V?I{0,3})$'"
   ]
  },
  {
   "cell_type": "markdown",
   "id": "fe0c635c-4628-41ca-97c6-ab897440d16d",
   "metadata": {},
   "source": [
    "#### Validating phone numbers"
   ]
  },
  {
   "cell_type": "code",
   "execution_count": null,
   "id": "83378183-0ad7-4c73-aeb5-3989398dbc3f",
   "metadata": {},
   "outputs": [],
   "source": [
    "import re\n",
    "n = int(input())\n",
    "starting = '[789]\\d{9}$'\n",
    "for _ in range(n):\n",
    "    string = input()\n",
    "    Isphone = False\n",
    "    if len(string) == 10 and re.match(starting, string):\n",
    "        print('YES')\n",
    "    else:\n",
    "        print('NO')"
   ]
  },
  {
   "cell_type": "markdown",
   "id": "9e84e46e-de27-4a05-8a87-6762c024281a",
   "metadata": {},
   "source": [
    "#### Validating and Parsing Email Addresses"
   ]
  },
  {
   "cell_type": "code",
   "execution_count": null,
   "id": "7ae85e79-2093-48eb-a69d-f428527f3188",
   "metadata": {},
   "outputs": [],
   "source": [
    "import email.utils\n",
    "import re\n",
    "n = int(input())\n",
    "for _ in range(n):\n",
    "    email = input()\n",
    "    if re.search(r'<[a-zA-Z](\\w|-|\\.|\\_)+@[a-zA-Z]+\\.[a-zA-Z]{1,3}>', email):\n",
    "        print(email)"
   ]
  },
  {
   "cell_type": "markdown",
   "id": "70cf5581-a3ef-46dd-8cca-7fc21fff36d0",
   "metadata": {},
   "source": [
    "#### Hex Color Code"
   ]
  },
  {
   "cell_type": "code",
   "execution_count": null,
   "id": "a6a58796-8188-4b7e-b780-d5509303315b",
   "metadata": {},
   "outputs": [],
   "source": [
    "import re\n",
    "n = int(input())\n",
    "color = r':?.(#[0-9a-fA-F]{3,6})'\n",
    "for _ in range(n):\n",
    "    string = input()\n",
    "    x = re.findall(color, string)\n",
    "    if x:\n",
    "        print(*x, sep='\\n')"
   ]
  },
  {
   "cell_type": "markdown",
   "id": "e093ebff-8542-4ab0-a2cd-194c7b188aaf",
   "metadata": {},
   "source": [
    "#### HTML Parser - Part 1"
   ]
  },
  {
   "cell_type": "code",
   "execution_count": null,
   "id": "d752c18c-5494-408e-a00d-263eb6ea0b30",
   "metadata": {},
   "outputs": [],
   "source": [
    "from html.parser import HTMLParser\n",
    "class MyHTMLParser(HTMLParser):\n",
    "    def handle_starttag(self, tag, attrs):\n",
    "        print('Start :', tag),\n",
    "        for i in attrs: \n",
    "            print('->',i[0],'>',i[1])\n",
    "    def handle_endtag(self, tag):\n",
    "        print('End   :', tag)\n",
    "    def handle_startendtag(self, tag, attrs):\n",
    "        print('Empty :', tag)\n",
    "        for i in attrs:\n",
    "            print('->',i[0],'>',i[1])\n",
    "\n",
    "\n",
    "n = int(input())\n",
    "parser = MyHTMLParser()\n",
    "for _ in range(n):\n",
    "    parser.feed(input())\n",
    "parser = MyHTMLParser()"
   ]
  },
  {
   "cell_type": "markdown",
   "id": "cd1f9e75-cd12-4be6-ac2e-f526392fdac3",
   "metadata": {},
   "source": [
    "#### HTML Parser - Part 2"
   ]
  },
  {
   "cell_type": "code",
   "execution_count": null,
   "id": "8afd13b0-8aee-4b4f-a180-3be0999e087a",
   "metadata": {},
   "outputs": [],
   "source": [
    "from html.parser import HTMLParser\n",
    "\n",
    "class MyHTMLParser(HTMLParser):\n",
    "    def handle_comment(self, data):\n",
    "        lines = len(data.split('\\n'))\n",
    "        if lines > 1:\n",
    "            print('>>> Multi-line Comment')\n",
    "        else:\n",
    "            print('>>> Single-line Comment')\n",
    "        if data.strip():\n",
    "            print(data)\n",
    "    def handle_data(self, data):\n",
    "        if data.strip():\n",
    "            print('>>> Data')\n",
    "            print(data)\n",
    "\n",
    "\n",
    "html = \"\"       \n",
    "for i in range(int(input())):\n",
    "    html += input().rstrip()\n",
    "    html += '\\n'\n",
    "    \n",
    "parser = MyHTMLParser()\n",
    "parser.feed(html)\n",
    "parser.close()"
   ]
  },
  {
   "cell_type": "markdown",
   "id": "2f950d01-bb48-4cdd-affa-e3258b13d2c0",
   "metadata": {},
   "source": [
    "#### Detect HTML Tags, Attributes and Attribute Values"
   ]
  },
  {
   "cell_type": "code",
   "execution_count": null,
   "id": "c112db22-fb8c-4447-9e99-6db52e531bf3",
   "metadata": {},
   "outputs": [],
   "source": [
    "from html.parser import HTMLParser\n",
    "class MyHTMLParser(HTMLParser):\n",
    "    def handle_starttag(self, tag, attrs):\n",
    "        print(tag),\n",
    "        for i in attrs: \n",
    "            print('->',i[0],'>',i[1])\n",
    "n = int(input())\n",
    "parser = MyHTMLParser()\n",
    "for _ in range(n):\n",
    "    parser.feed(input())\n",
    "parser = MyHTMLParser()"
   ]
  },
  {
   "cell_type": "markdown",
   "id": "bf800014-1803-4037-832d-c8a30afcc5ad",
   "metadata": {},
   "source": [
    "#### Validating UID"
   ]
  },
  {
   "cell_type": "code",
   "execution_count": null,
   "id": "9b0b9aa1-bec7-4bc5-ab9f-6ee39a180e16",
   "metadata": {},
   "outputs": [],
   "source": [
    "import re\n",
    "n = int(input())\n",
    "valid_uid = r'[A-Z]{2,}[0-9]{3,}\\w{1}(.)\\1'\n",
    "for _ in range(n):\n",
    "    uid = input()\n",
    "    if  all([re.search(r, uid) for r in [r'[A-Za-z0-9]{10}',r'([A-Z].*){2}',r'([0-9].*){3}']]) and not re.search(r'.*(.).*\\1', uid):\n",
    "        print('Valid')\n",
    "    else:\n",
    "        print('Invalid')"
   ]
  },
  {
   "cell_type": "markdown",
   "id": "d9ea2bbc-744c-4c6e-90f4-2a4e95dd2a78",
   "metadata": {},
   "source": [
    "#### Validating Credit Card Numbers"
   ]
  },
  {
   "cell_type": "code",
   "execution_count": null,
   "id": "5ba1f099-ba19-470d-8443-9d4b8eb04381",
   "metadata": {},
   "outputs": [],
   "source": [
    "import re\n",
    "n = int(input())\n",
    "for _ in range(n):\n",
    "    card = input()\n",
    "    if re.match(r'^[456]([\\d]{15}|[\\d]{3}(-[\\d]{4}){3})$',card) and not re.search(r'([\\d])\\1\\1\\1', card.replace(\"-\",\"\")):\n",
    "        print('Valid')\n",
    "    else:\n",
    "        print('Invalid')"
   ]
  },
  {
   "cell_type": "markdown",
   "id": "3e85d36e-6e29-42a3-a477-f9d231e54968",
   "metadata": {},
   "source": [
    "#### Validating Postal Codes"
   ]
  },
  {
   "cell_type": "code",
   "execution_count": null,
   "id": "9fc7a0ff-c02b-4972-9879-c71d0a126ed8",
   "metadata": {},
   "outputs": [],
   "source": [
    "regex_integer_in_range = r\"^[1-9][\\d]{5}$\"\n",
    "regex_alternating_repetitive_digit_pair = r\"(\\d)(?=\\d\\1)\""
   ]
  },
  {
   "cell_type": "markdown",
   "id": "afaec281-d5b7-4f9f-94fa-c601afea31f3",
   "metadata": {},
   "source": [
    "#### Matrix Script"
   ]
  },
  {
   "cell_type": "code",
   "execution_count": null,
   "id": "ac254b93-8928-4bdc-8de2-dc3f36bc073a",
   "metadata": {},
   "outputs": [],
   "source": [
    "import math\n",
    "import os\n",
    "import random\n",
    "import re\n",
    "import sys\n",
    "first_multiple_input = input().rstrip().split()\n",
    "\n",
    "n = int(first_multiple_input[0])\n",
    "\n",
    "m = int(first_multiple_input[1])\n",
    "\n",
    "matrix = []\n",
    "\n",
    "for _ in range(n):\n",
    "    matrix_item =input()\n",
    "    matrix.append(matrix_item)\n",
    "\n",
    "matrix = list(zip(*matrix))\n",
    "sample = str()\n",
    "for words in matrix:\n",
    "    for char in words:\n",
    "        sample += char       \n",
    "print(re.sub(r'(?<=\\w)([^\\w\\d]+)(?=\\w)', ' ', sample)) "
   ]
  },
  {
   "cell_type": "markdown",
   "id": "e8dd317d-a863-44b0-81db-2068f7fae482",
   "metadata": {},
   "source": [
    "## Closures and Decorations\n",
    "#### Standardize Mobile Number Using Decorators"
   ]
  },
  {
   "cell_type": "code",
   "execution_count": null,
   "id": "b403e75a-f48c-4e2e-9f1e-2a3f6ed7db71",
   "metadata": {},
   "outputs": [],
   "source": [
    "def wrapper(f):\n",
    "    def fun(l):\n",
    "        f([\"+91 \"+c[-10:-5]+\" \"+c[-5:] for c in l])\n",
    "    return fun"
   ]
  },
  {
   "cell_type": "markdown",
   "id": "0cca9a61-8acc-41c3-a09a-11b50b4331e4",
   "metadata": {},
   "source": [
    "#### Decorators 2 - Name Directory"
   ]
  },
  {
   "cell_type": "code",
   "execution_count": null,
   "id": "8f4218ce-29a7-44b6-9540-bb511c5f4f97",
   "metadata": {},
   "outputs": [],
   "source": [
    "def person_lister(f):\n",
    "    def inner(people):\n",
    "        return map(f, sorted(people, key=lambda x: int(x[2])))\n",
    "    return inner"
   ]
  },
  {
   "cell_type": "markdown",
   "id": "b8e9240e-fbf3-4601-95b3-384ec1c7e7dd",
   "metadata": {},
   "source": [
    "## Numpy\n",
    "#### Arrays"
   ]
  },
  {
   "cell_type": "code",
   "execution_count": null,
   "id": "7e84e3a5-ac98-460f-bf5f-57b0a87f3d28",
   "metadata": {},
   "outputs": [],
   "source": [
    "def arrays(arr):\n",
    "    return(numpy.array(arr[::-1],float))"
   ]
  },
  {
   "cell_type": "markdown",
   "id": "5b7654d8-5b5c-4168-9eb5-b091614975d8",
   "metadata": {},
   "source": [
    "#### Shape and Reshape"
   ]
  },
  {
   "cell_type": "code",
   "execution_count": null,
   "id": "2159df5a-f9bd-48c3-a53d-06913e02cd2c",
   "metadata": {},
   "outputs": [],
   "source": [
    "import numpy\n",
    "array = numpy.array([input().split()], int)\n",
    "print(numpy.reshape(array,(3,3)))"
   ]
  },
  {
   "cell_type": "markdown",
   "id": "7e2d77a6-1399-414c-aebf-f20e5dcefc6e",
   "metadata": {},
   "source": [
    "#### Transpose and Flatten"
   ]
  },
  {
   "cell_type": "code",
   "execution_count": null,
   "id": "4713a911-66c9-4d3d-8b35-5a39c8fa44ad",
   "metadata": {},
   "outputs": [],
   "source": [
    "import numpy\n",
    "n,m = map(int, input().split())\n",
    "\n",
    "arr = numpy.array([input().strip().split() for _ in range(n)],int)\n",
    "print(numpy.transpose(arr))\n",
    "print(arr.flatten())"
   ]
  },
  {
   "cell_type": "markdown",
   "id": "b8ec2a86-5a33-4bd8-9471-a6477c6b6f98",
   "metadata": {},
   "source": [
    "#### Concatenate"
   ]
  },
  {
   "cell_type": "code",
   "execution_count": null,
   "id": "7af3ad9f-c899-4882-ae87-1b3309691d9c",
   "metadata": {},
   "outputs": [],
   "source": [
    "import numpy\n",
    "a, b, c = map(int,input().split())\n",
    "arrA = numpy.array([input().split() for _ in range(a)],int)\n",
    "arrB = numpy.array([input().split() for _ in range(b)],int)\n",
    "print(numpy.concatenate((arrA, arrB), axis = 0))"
   ]
  },
  {
   "cell_type": "markdown",
   "id": "3229f09b-8371-4d32-b458-052f05fed04f",
   "metadata": {},
   "source": [
    "#### Zeros and Ones"
   ]
  },
  {
   "cell_type": "code",
   "execution_count": null,
   "id": "07ebfcf2-8d2c-4254-99a5-108d8e5f26db",
   "metadata": {},
   "outputs": [],
   "source": [
    "import numpy\n",
    "n = tuple(map(int,input().split()))\n",
    "\n",
    "print(numpy.zeros(n, dtype = numpy.int))\n",
    "print(numpy.ones(n, dtype = numpy.int))"
   ]
  },
  {
   "cell_type": "markdown",
   "id": "c39db88b-f81e-4518-9388-09843bac7caa",
   "metadata": {},
   "source": [
    "#### Eye and Identity"
   ]
  },
  {
   "cell_type": "code",
   "execution_count": null,
   "id": "1fb03aca-9894-4c55-836c-adfaecf8f0a3",
   "metadata": {},
   "outputs": [],
   "source": [
    "import numpy\n",
    "numpy.set_printoptions(legacy='1.13')\n",
    "nm =list( map(int,input().split()))\n",
    "n = nm[0]\n",
    "m = nm[1]\n",
    "print(numpy.eye(n, m, k = 0))"
   ]
  },
  {
   "cell_type": "markdown",
   "id": "fc9ecd9b-4ddd-46b1-aa28-2e890f8ac71a",
   "metadata": {},
   "source": [
    "#### Array Mathematics"
   ]
  },
  {
   "cell_type": "code",
   "execution_count": null,
   "id": "1ca648ad-cd70-4464-92fa-714384ca7a2c",
   "metadata": {},
   "outputs": [],
   "source": [
    "import numpy\n",
    "\n",
    "N, M = map(int, input().split())\n",
    "A=[]\n",
    "B=[]\n",
    "for _ in range(N):\n",
    "    A.append(input().split())\n",
    "for _ in range(N):\n",
    "    B.append(input().split())\n",
    "A= numpy.array(A, int)\n",
    "B= numpy.array(B, int)\n",
    "\n",
    "print(numpy.add(A,B))\n",
    "print(numpy.subtract(A,B))\n",
    "print(numpy.multiply(A,B))\n",
    "print(A//B)\n",
    "print(numpy.mod(A,B))\n",
    "print(numpy.power(A,B))"
   ]
  },
  {
   "cell_type": "markdown",
   "id": "921cc5f4-185b-484b-be27-c84633945268",
   "metadata": {},
   "source": [
    "#### Floor, Ceil and Rint"
   ]
  },
  {
   "cell_type": "code",
   "execution_count": null,
   "id": "450ecf67-f17a-4bf9-9b94-e8b1be21c642",
   "metadata": {},
   "outputs": [],
   "source": [
    "import numpy\n",
    "numpy.set_printoptions(legacy='1.13')\n",
    "arr = numpy.array(input().split(),float)\n",
    "print(numpy.floor(arr))\n",
    "print(numpy.ceil(arr))\n",
    "print(numpy.rint(arr))"
   ]
  },
  {
   "cell_type": "markdown",
   "id": "1a05fa19-a72d-4e01-adce-67a08e08f897",
   "metadata": {},
   "source": [
    "#### Sum and Prod"
   ]
  },
  {
   "cell_type": "code",
   "execution_count": null,
   "id": "7f7c8e78-050b-4d7e-86e3-9616ca4966c3",
   "metadata": {},
   "outputs": [],
   "source": [
    "import numpy\n",
    "size = list(map(int,input().split()))\n",
    "n = size[0]\n",
    "m = size[1]\n",
    "arr = numpy.array([input().split() for _ in range(n)],int)\n",
    "s = numpy.sum(arr, axis = 0)\n",
    "prod = 1\n",
    "for i in range(0,m):\n",
    "    prod *= s[i]\n",
    "print(prod)"
   ]
  },
  {
   "cell_type": "markdown",
   "id": "3bdf8735-6675-4c46-8ce4-20a1dfa095cb",
   "metadata": {},
   "source": [
    "#### Min and Max"
   ]
  },
  {
   "cell_type": "code",
   "execution_count": null,
   "id": "40d8446f-820f-44e2-b216-68fd7cb0f546",
   "metadata": {},
   "outputs": [],
   "source": [
    "import numpy\n",
    "size = list(map(int,input().split()))\n",
    "n = size[0]\n",
    "m = size[1]\n",
    "arr = numpy.array([input().split() for _ in range(n)], int)\n",
    "print(numpy.max(numpy.min(arr, axis = 1), axis = 0 ))"
   ]
  },
  {
   "cell_type": "markdown",
   "id": "5c536e8c-a0a7-4320-ba1e-f60a29f0e162",
   "metadata": {},
   "source": [
    "#### Mean, Var, and Std"
   ]
  },
  {
   "cell_type": "code",
   "execution_count": null,
   "id": "c07d3b0f-25f1-4c90-af73-fafb546ec974",
   "metadata": {},
   "outputs": [],
   "source": [
    "import numpy\n",
    "\n",
    "size = list(map(int,input().split()))\n",
    "n = size[0]\n",
    "m = size[1]\n",
    "array = numpy.array([input().split() for _ in range(n)],int)\n",
    "print(numpy.mean(array, axis = 1))\n",
    "print(numpy.var(array, axis = 0))\n",
    "print(numpy.around(numpy.std(array),11))"
   ]
  },
  {
   "cell_type": "markdown",
   "id": "1ce26453-3560-41a3-aed6-e1041c218545",
   "metadata": {},
   "source": [
    "#### Dot and Cross"
   ]
  },
  {
   "cell_type": "code",
   "execution_count": null,
   "id": "6f466e57-74c4-4bb1-bd9f-c98ab029a758",
   "metadata": {},
   "outputs": [],
   "source": [
    "import numpy\n",
    "n = int(input())\n",
    "\n",
    "a = numpy.array([input().split() for _ in range(n)], int)\n",
    "b = numpy.array([input().split() for _ in range(n)], int)\n",
    "\n",
    "print(numpy.dot(a,b))"
   ]
  },
  {
   "cell_type": "markdown",
   "id": "b953a29f-05d2-4a9b-9287-1f913048ea27",
   "metadata": {},
   "source": [
    "#### Inner and Outer"
   ]
  },
  {
   "cell_type": "code",
   "execution_count": null,
   "id": "8900a297-d8ee-4caf-86dc-f997366c9cca",
   "metadata": {},
   "outputs": [],
   "source": [
    "import numpy\n",
    "A = numpy.array(input().split(),int)\n",
    "B = numpy.array(input().split(),int)\n",
    "print(numpy.inner(A,B))\n",
    "print(numpy.outer(A,B))"
   ]
  },
  {
   "cell_type": "markdown",
   "id": "36e4e219-e826-46b6-ba97-08509f4a602a",
   "metadata": {},
   "source": [
    "#### Polynomials"
   ]
  },
  {
   "cell_type": "code",
   "execution_count": null,
   "id": "91bc2a34-cdb3-4494-8d35-50803e10ac95",
   "metadata": {},
   "outputs": [],
   "source": [
    "import numpy\n",
    "coeff = numpy.array(input().split(),float)\n",
    "x = int(input())\n",
    "\n",
    "print(numpy.polyval(coeff,x))"
   ]
  },
  {
   "cell_type": "markdown",
   "id": "8282bf75-eb8e-4a46-a358-c9ac5f27a708",
   "metadata": {},
   "source": [
    "#### Linear Algebra"
   ]
  },
  {
   "cell_type": "code",
   "execution_count": null,
   "id": "998c90dd-09d9-4c87-966d-edc7523878a4",
   "metadata": {},
   "outputs": [],
   "source": [
    "import numpy\n",
    "n = int(input())\n",
    "a = numpy.array([input().split() for _ in range(n)],float)\n",
    "print(numpy.around(numpy.linalg.det(a),2))"
   ]
  },
  {
   "cell_type": "markdown",
   "id": "3003888a-58e9-4073-bade-96663fdf375a",
   "metadata": {},
   "source": [
    "# Problem 2\n",
    "#### Birthday Cake Candles"
   ]
  },
  {
   "cell_type": "code",
   "execution_count": null,
   "id": "6157f14a-4d45-4e4b-8b64-96bee3208644",
   "metadata": {},
   "outputs": [],
   "source": [
    "import math\n",
    "import os\n",
    "import random\n",
    "import re\n",
    "import sys\n",
    "\n",
    "# Complete the 'birthdayCakeCandles' function below.\n",
    "#\n",
    "# The function is expected to return an INTEGER.\n",
    "# The function accepts INTEGER_ARRAY candles as parameter.\n",
    "\n",
    "def birthdayCakeCandles(candles):\n",
    "    return(candles.count(max(candles)))\n",
    "\n",
    "if __name__ == '__main__':\n",
    "    fptr = open(os.environ['OUTPUT_PATH'], 'w')\n",
    "    candles_count = int(input().strip())\n",
    "    candles = list(map(int, input().rstrip().split()))\n",
    "    result = birthdayCakeCandles(candles)\n",
    "    fptr.write(str(result) + '\\n')\n",
    "    fptr.close()"
   ]
  },
  {
   "cell_type": "markdown",
   "id": "0b2374b3-082a-48a3-a5b8-b7834aa37eea",
   "metadata": {},
   "source": [
    "#### Number Line Jumps"
   ]
  },
  {
   "cell_type": "code",
   "execution_count": null,
   "id": "6a687f42-c162-4171-8660-42457c785936",
   "metadata": {},
   "outputs": [],
   "source": [
    "import math\n",
    "import os\n",
    "import random\n",
    "import re\n",
    "import sys\n",
    "\n",
    "def kangaroo(x1, v1, x2, v2):\n",
    "    if x1-x2==0:\n",
    "        return(\"YES\")\n",
    "    if v2-v1==0:\n",
    "        return(\"NO\")\n",
    "        quit()\n",
    "    if ((x1-x2)%(v2-v1)==0 and (x1-x2)//(v2-v1)>=0):\n",
    "        return(\"YES\")\n",
    "        quit()\n",
    "    return(\"NO\")\n",
    "if __name__ == '__main__':\n",
    "    fptr = open(os.environ['OUTPUT_PATH'], 'w')\n",
    "    first_multiple_input = input().rstrip().split()\n",
    "    x1 = int(first_multiple_input[0])\n",
    "    v1 = int(first_multiple_input[1])\n",
    "    x2 = int(first_multiple_input[2])\n",
    "    v2 = int(first_multiple_input[3])\n",
    "    result = kangaroo(x1, v1, x2, v2)\n",
    "    fptr.write(result + '\\n')"
   ]
  },
  {
   "cell_type": "markdown",
   "id": "c7a2d5c6-1393-4434-b589-3065deb77065",
   "metadata": {},
   "source": [
    "#### Viral Advertising"
   ]
  },
  {
   "cell_type": "code",
   "execution_count": null,
   "id": "807f2024-d4a4-438e-9244-da3b080e866b",
   "metadata": {},
   "outputs": [],
   "source": [
    "import math\n",
    "import os\n",
    "import random\n",
    "import re\n",
    "import sys\n",
    "\n",
    "# Complete the 'viralAdvertising' function below.\n",
    "#\n",
    "# The function is expected to return an INTEGER.\n",
    "# The function accepts INTEGER n as parameter.\n",
    "\n",
    "def viralAdvertising(n):\n",
    "    total = 0\n",
    "    people = 5\n",
    "    for day in range(1, n + 1):\n",
    "        half = math.floor(people / 2)\n",
    "        total += half\n",
    "        people = 3 * half\n",
    "    return(total)\n",
    "    \n",
    "if __name__ == '__main__':\n",
    "    fptr = open(os.environ['OUTPUT_PATH'], 'w')\n",
    "    n = int(input().strip())\n",
    "    result = viralAdvertising(n)\n",
    "    fptr.write(str(result) + '\\n')\n",
    "    fptr.close()"
   ]
  },
  {
   "cell_type": "markdown",
   "id": "2f83733c-32c8-4f5a-8a08-b34dabe67af9",
   "metadata": {},
   "source": [
    "#### Recursive Digit Sum"
   ]
  },
  {
   "cell_type": "code",
   "execution_count": null,
   "id": "2cbf0081-3814-4f71-9b83-4bcdf6766621",
   "metadata": {},
   "outputs": [],
   "source": [
    "import math\n",
    "import os\n",
    "import random\n",
    "import re\n",
    "import sys\n",
    "#\n",
    "# Complete the 'superDigit' function below.\n",
    "#\n",
    "# The function is expected to return an INTEGER.\n",
    "# The function accepts following parameters:\n",
    "#  1. STRING n\n",
    "#  2. INTEGER k\n",
    "#\n",
    "def superDigit(n, k):\n",
    "    x = str(sum(int(i) for i in str(n)))\n",
    "    return digit(str(int(n)*k))\n",
    "def digit(n):\n",
    "    if len(n) <= 1:\n",
    "        return(n)\n",
    "    else:\n",
    "        return digit(str(sum(int(i) for i in str(n))))        \n",
    "        \n",
    "if __name__ == '__main__':\n",
    "    fptr = open(os.environ['OUTPUT_PATH'], 'w')\n",
    "    first_multiple_input = input().rstrip().split()\n",
    "    n = first_multiple_input[0]\n",
    "    k = int(first_multiple_input[1])\n",
    "    result = superDigit(n, k)\n",
    "    fptr.write(str(result) + '\\n')\n",
    "    fptr.close()"
   ]
  },
  {
   "cell_type": "markdown",
   "id": "d6893169-82a1-493e-a94b-e7c33c1ca798",
   "metadata": {},
   "source": [
    "#### Insertion Sort - Part 1"
   ]
  },
  {
   "cell_type": "code",
   "execution_count": null,
   "id": "e5bc104e-ab87-4ff5-bfa1-e0fa69de808b",
   "metadata": {},
   "outputs": [],
   "source": [
    "import math\n",
    "import os\n",
    "import random\n",
    "import re\n",
    "import sys\n",
    "#\n",
    "# Complete the 'insertionSort1' function below.\n",
    "#\n",
    "# The function accepts following parameters:\n",
    "#  1. INTEGER n\n",
    "#  2. INTEGER_ARRAY arr\n",
    "\n",
    "def insertionSort1(n, arr):\n",
    "    x = arr[-1]\n",
    "    i = n-2\n",
    "    while (x < arr[i]) and (i >= 0):\n",
    "        arr[i+1] = arr[i]\n",
    "        print(*arr)\n",
    "        i -= 1\n",
    "    arr[i+1] = x\n",
    "    print(*arr)\n",
    "\n",
    "if __name__ == '__main__':\n",
    "    n = int(input().strip())\n",
    "    arr = list(map(int, input().rstrip().split()))\n",
    "    insertionSort1(n, arr)"
   ]
  },
  {
   "cell_type": "markdown",
   "id": "cfa56f79-7661-4021-8410-96f2a7281217",
   "metadata": {},
   "source": [
    "#### Insertion Sort - Part 2"
   ]
  },
  {
   "cell_type": "code",
   "execution_count": null,
   "id": "c449dbd1-3943-4a18-a2df-e0da6881f763",
   "metadata": {},
   "outputs": [],
   "source": [
    "import math\n",
    "import os\n",
    "import random\n",
    "import re\n",
    "import sys\n",
    "\n",
    "def insertionSort2(n, arr):\n",
    "    for i in range(0, n):\n",
    "        j = i;\n",
    "        while (j > 0 and arr[j] < arr[j-1]):\n",
    "            a = arr[j];\n",
    "            arr[j] = arr[j-1];\n",
    "            arr[j-1] = a;\n",
    "            j -= 1;\n",
    "        if (i != 0): \n",
    "            print(*arr)\n",
    "            \n",
    "if __name__ == '__main__':\n",
    "    n = int(input().strip())\n",
    "    arr = list(map(int, input().rstrip().split()))\n",
    "    insertionSort2(n, arr)"
   ]
  }
 ],
 "metadata": {
  "kernelspec": {
   "display_name": "Python 3",
   "language": "python",
   "name": "python3"
  },
  "language_info": {
   "codemirror_mode": {
    "name": "ipython",
    "version": 3
   },
   "file_extension": ".py",
   "mimetype": "text/x-python",
   "name": "python",
   "nbconvert_exporter": "python",
   "pygments_lexer": "ipython3",
   "version": "3.8.8"
  }
 },
 "nbformat": 4,
 "nbformat_minor": 5
}
